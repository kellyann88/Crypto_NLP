{
 "cells": [
  {
   "cell_type": "code",
   "execution_count": null,
   "metadata": {},
   "outputs": [],
   "source": [
    "import spacy\n",
    "import pandas as pd\n",
    "from subprocess import PIPE\n",
    "import networkx as nx\n",
    "import uuid\n",
    "import os\n",
    "import time\n",
    "import matplotlib.pyplot as plt\n",
    "import numpy as np"
   ]
  },
  {
   "cell_type": "code",
   "execution_count": null,
   "metadata": {},
   "outputs": [],
   "source": [
    "nlp = spacy.load('en_core_web_md')"
   ]
  },
  {
   "cell_type": "code",
   "execution_count": null,
   "metadata": {},
   "outputs": [],
   "source": [
    "filename = '/Users/kellycoulter/Desktop/PhD_Code_2021/df6.csv'\n",
    "\n",
    "df6 = pd.read_csv(filename)\n",
    "\n",
    "df6.insert(0, 'Query', 'Cryptocurrency')\n",
    "\n",
    "df6.loc[:, \"UUID\"] = 1\n",
    "\n",
    "df6.loc[:, \"UUID\"] = df6.groupby(\"Title\").UUID.transform(lambda g: uuid.uuid4())\n",
    "\n",
    "df6.head()"
   ]
  },
  {
   "cell_type": "code",
   "execution_count": null,
   "metadata": {},
   "outputs": [],
   "source": [
    "df6_copy = df6.copy()"
   ]
  },
  {
   "cell_type": "code",
   "execution_count": null,
   "metadata": {},
   "outputs": [],
   "source": [
    "df6.info()"
   ]
  },
  {
   "cell_type": "code",
   "execution_count": null,
   "metadata": {},
   "outputs": [],
   "source": [
    "df6.groupby('Source').count()"
   ]
  },
  {
   "cell_type": "code",
   "execution_count": null,
   "metadata": {},
   "outputs": [],
   "source": [
    "# Plot a histogram for article distribution\n",
    "\n",
    "publ_count = df6.groupby('Source').count()\n",
    "plt.hist (publ_count) \n",
    "plt.yscale('log')\n",
    "\n",
    "\n",
    "plt.xlabel('Number of Articles')\n",
    "plt.ylabel('News Publication Outlet') \n",
    "plt.title('Article Distribution across Publications')"
   ]
  },
  {
   "cell_type": "code",
   "execution_count": null,
   "metadata": {},
   "outputs": [],
   "source": [
    "pub_cnt = df6['Source']\n",
    "\n",
    "pubs_cnts = pub_cnt.value_counts()\n",
    "\n",
    "pubs_cnts\n"
   ]
  },
  {
   "cell_type": "code",
   "execution_count": null,
   "metadata": {},
   "outputs": [],
   "source": [
    "\n",
    "df_publications = pubs_cnts.reset_index().rename(columns={'index':'Publication','Source':'Number of Publications'})\n",
    "df_publications"
   ]
  },
  {
   "cell_type": "code",
   "execution_count": null,
   "metadata": {},
   "outputs": [],
   "source": [
    "df_publications['Higher_or_equal_5'] = np.where(df_publications['Number of Publications'] >= 5, True, False)\n",
    "df_publications.head(20)"
   ]
  },
  {
   "cell_type": "code",
   "execution_count": null,
   "metadata": {},
   "outputs": [],
   "source": [
    "df_pubs_filtered = df_publications[df_publications['Higher_or_equal_5'] == False] \n",
    "df_pubs_filtered"
   ]
  },
  {
   "cell_type": "code",
   "execution_count": null,
   "metadata": {},
   "outputs": [],
   "source": [
    "pubs_less5_filter = df6['Source'].isin(df_pubs_filtered)"
   ]
  },
  {
   "cell_type": "code",
   "execution_count": null,
   "metadata": {},
   "outputs": [],
   "source": [
    "df6 = df6[~pubs_less5_filter]"
   ]
  },
  {
   "cell_type": "code",
   "execution_count": null,
   "metadata": {},
   "outputs": [],
   "source": [
    "df6.info()"
   ]
  },
  {
   "cell_type": "code",
   "execution_count": null,
   "metadata": {},
   "outputs": [],
   "source": [
    "%time processed_docs = list(nlp.pipe(df6['Body']))\n",
    "df6['Text_nlp'] = processed_docs"
   ]
  },
  {
   "cell_type": "code",
   "execution_count": null,
   "metadata": {},
   "outputs": [],
   "source": [
    "df_processed_doc = df6.loc[:, ['Text_nlp']]                 \n",
    "\n",
    "df_processed_doc.to_csv('df_processed_doc.csv')\n",
    "\n",
    "df6.head()"
   ]
  },
  {
   "cell_type": "code",
   "execution_count": null,
   "metadata": {},
   "outputs": [],
   "source": [
    "def entity_extractor(nlp_doc, entity_type):\n",
    "    ents = list(nlp_doc.ents)\n",
    "    ents_filtered = [ent.text for ent in ents if ent.label_ == entity_type]\n",
    "    unique = list(set(ents_filtered))\n",
    "    return unique"
   ]
  },
  {
   "cell_type": "code",
   "execution_count": null,
   "metadata": {},
   "outputs": [],
   "source": [
    "processed_row = df6.loc[0, 'Text_nlp']\n",
    "entity_extractor(processed_row, entity_type='PERSON')\n",
    "\n",
    "processed_row = df6.loc[0, 'Text_nlp']\n",
    "entity_extractor(processed_row, entity_type='ORG')"
   ]
  },
  {
   "cell_type": "code",
   "execution_count": null,
   "metadata": {},
   "outputs": [],
   "source": [
    "df6['entity_person'] = df6['Text_nlp'].apply(entity_extractor, entity_type='PERSON')\n",
    "\n",
    "df6['entity_org'] = df6['Text_nlp'].apply(entity_extractor, entity_type='ORG')\n",
    "\n",
    "df6['entity_NORP'] = df6['Text_nlp'].apply(entity_extractor, entity_type='NORP')\n",
    "\n",
    "df6['entity_MONEY'] = df6['Text_nlp'].apply(entity_extractor, entity_type='MONEY')\n",
    "\n",
    "df6['entity_LAW'] = df6['Text_nlp'].apply(entity_extractor, entity_type='LAW')\n",
    "\n",
    "df6['entity_PRODUCT'] = df6['Text_nlp'].apply(entity_extractor, entity_type='PRODUCT')\n",
    "\n",
    "df6['entity_EVENT'] = df6['Text_nlp'].apply(entity_extractor, entity_type='EVENT')"
   ]
  },
  {
   "cell_type": "code",
   "execution_count": null,
   "metadata": {},
   "outputs": [],
   "source": [
    "crypto_data = df6[df6['Query'] == 'Cryptocurrency'].copy()"
   ]
  },
  {
   "cell_type": "code",
   "execution_count": null,
   "metadata": {},
   "outputs": [],
   "source": [
    "exploded_df = crypto_data.explode('entity_person')\n",
    "exploded_df\n",
    "\n",
    "exploded_df['entity_person'].value_counts().head(10)\n",
    "\n",
    "crypto_data.explode('entity_person')['entity_person'].value_counts()\n",
    "\n",
    "exploded_data = crypto_data.explode('entity_person')\n",
    "\n",
    "groupby_query = exploded_data.groupby('Query')\n",
    "groupby_query\n",
    "\n",
    "groupby_query['entity_person'].value_counts()\n",
    "\n",
    "groupby_query['entity_person'].value_counts().groupby('Query').head(10)"
   ]
  },
  {
   "cell_type": "code",
   "execution_count": null,
   "metadata": {},
   "outputs": [],
   "source": [
    "def top_entity(data, entity_col, groupby_col, top_n=5):\n",
    "    exploded = data.explode(entity_col)\n",
    "    g = exploded.groupby(groupby_col)\n",
    "    result = g[entity_col].value_counts().groupby(groupby_col).head(top_n)\n",
    "    return result\n",
    "\n",
    "top_entity(data=crypto_data, entity_col='entity_person', groupby_col='Query', top_n=5)\n",
    "\n",
    "top_entity(data=crypto_data, entity_col='entity_org', groupby_col='Query', top_n=5)\n",
    "\n",
    "top_entity(data=crypto_data, entity_col='entity_NORP', groupby_col='Query', top_n=5)\n",
    "\n",
    "top_entity(data=crypto_data, entity_col='entity_LAW', groupby_col='Query', top_n=5)\n",
    "\n",
    "top_entity(data=crypto_data, entity_col='entity_PRODUCT', groupby_col='Query', top_n=5)\n",
    "\n",
    "top_entity(data=crypto_data, entity_col='entity_EVENT', groupby_col='Query', top_n=5)\n",
    "\n",
    "exploded = crypto_data.explode('entity_person')"
   ]
  },
  {
   "cell_type": "code",
   "execution_count": null,
   "metadata": {},
   "outputs": [],
   "source": [
    "edge_list = exploded[['UUID', 'entity_person']].copy()\n",
    "\n",
    "edge_list = edge_list.rename(columns={'UUID':'source','entity_person':'target'})\n",
    "edge_list"
   ]
  },
  {
   "cell_type": "code",
   "execution_count": null,
   "metadata": {},
   "outputs": [],
   "source": [
    "my_list = [\n",
    "           ('Trump', 'Donald Trump'), \n",
    "           ('Nakamoto', 'Satoshi Nakamoto'), \n",
    "           ('Cotten','Gerald Cotton'), \n",
    "           ('Gerry Cotton','Gerald Cotton'),\n",
    "           ('Kneer','Ryan Kneer'),\n",
    "           ('Zou','Tong Zou'),\n",
    "           ('Duhaime','Christine Duhaime'), \n",
    "           ('Wood','Michael Wood'),\n",
    "           ('Ernst','Ernst Young'),\n",
    "           ('Robertson','Jennifer Robertson'),\n",
    "           ('Joleeeeene','Jolene'),\n",
    "           ('Finney','Hal Finney'),\n",
    "           ('Satoshi','Satoshi Nakamoto'), \n",
    "           ('Andresen','Gavin Andresen'),\n",
    "           ('Jobs\"', 'Steve Jobs'),\n",
    "           ('Jobs','Steve Jobs'),\n",
    "           ('Bitcoins','Bitcoin'),\n",
    "           ('Tyler','Tyler Winklevoss'),\n",
    "           ('Dimon','Jamie Dimon'),\n",
    "           (\"Philip Green's\",'Philip Green'),\n",
    "           ('Shrem','Charlie Shrem'),\n",
    "           ('Gates','Bill Gates'),\n",
    "           ('Patryn','Michael Patryn'),\n",
    "           ('Buffet','Warren Buffet'),\n",
    "           ('Nuttall', 'John Nuttall'),\n",
    "           ('Yermack','David Yermack'),\n",
    "           ('Sluymer','Robert Sluymer'),\n",
    "           ('Nick','Nick Szabo'),\n",
    "           ('Ozcan','Pinar Ozcan'),\n",
    "           ('Yatsenko','Vlad Yatsenko'),\n",
    "           ('\"Storonsky','Nikolay Storonsky'),\n",
    "           ('Wright','Craig Wright'),\n",
    "           ('Craig Steven Wright', 'Craig Wright'),\n",
    "           ('Clegg','Nicholas Clegg'),\n",
    "           ('Sheryl','Sheryl Sandberg'),\n",
    "           ('Zuckerberg', 'Mark Zuckerberg'),\n",
    "           ('Young', 'Ernst Young'),\n",
    "           ('Marcus', 'David Marcus'),\n",
    "           ('Xi', 'Xi Jinping'),\n",
    "           ('Livingston', 'Ted Livingston'),\n",
    "           ('Buterin', 'Vitalik Buterin'),\n",
    "           ('Buffett','Warren Buffet'),\n",
    "           ('Piette', 'Marc Piette'),\n",
    "           ('Storonsky','Nikolay Storonsky'),\n",
    "           ('Thiel', 'Peter Thiel'),\n",
    "           ('Hayes', 'Arthur Hayes'),\n",
    "           ('Kushner', 'Jared Kushner'),\n",
    "           ('Sandberg','Sheryl Sandberg'),\n",
    "           ('Aven','Petr Aven')\n",
    "           ]\n"
   ]
  },
  {
   "cell_type": "code",
   "execution_count": null,
   "metadata": {},
   "outputs": [],
   "source": [
    "problems = [(idx, value) for idx,value in enumerate(my_list) if len(value)!=2]\n",
    "\n",
    "problems"
   ]
  },
  {
   "cell_type": "code",
   "execution_count": null,
   "metadata": {},
   "outputs": [],
   "source": [
    "for to_replace, replacement_value in my_list :\n",
    "    edge_list[\"target\"].replace(to_replace=to_replace, value=replacement_value, inplace=True)"
   ]
  },
  {
   "cell_type": "code",
   "execution_count": null,
   "metadata": {},
   "outputs": [],
   "source": [
    "check_edge_list = edge_list[(edge_list['target'] == 'Donald Trump')]\n",
    "check_edge_list.head()\n",
    "\n"
   ]
  },
  {
   "cell_type": "code",
   "execution_count": null,
   "metadata": {},
   "outputs": [],
   "source": [
    "to_drop_non_relevant_target = [\n",
    "                                'Goolwa',\n",
    "                                'Friends of Mitten',\n",
    "                                'Pt Elliot',\n",
    "                                'Cit',\n",
    "                                'Chapman Rd',\n",
    "                                'Air Youth',\n",
    "                                'Martha Close',\n",
    "                                'Mosquito Hill',\n",
    "                                'Zwergeland',\n",
    "                                'Maude St',\n",
    "                                'Coorang dragons',\n",
    "                                'Free-WiFi',\n",
    "                                'Mindfulness',\n",
    "                                'Bon Appetit',\n",
    "                                '9am-10pm',\n",
    "                                'Glenda',\n",
    "                                'Judy',\n",
    "                                'Footloose',\n",
    "                                'Goolwa Hotel',\n",
    "                                'Mens Shed',\n",
    "                                'Mt Compass',\n",
    "                                'Chiton Retirement Village',\n",
    "                                'Myponga playcentre',\n",
    "                                'Heysen Hikers',\n",
    "                                \"St Augustine's\",\n",
    "                                \"Goolwa RSL's\",\n",
    "                                'Myponga Walkers',\n",
    "                                'Goolwa Croquet Club',\n",
    "                                'Goolwa Oval',\n",
    "                                'Goolwa Lions',\n",
    "                                'Goolwa Nth',\n",
    "                                'Al-Anon',\n",
    "                                'Corio Tce',\n",
    "                                'Middleton',\n",
    "                                'Riverport Singers',\n",
    "                                'Goolwa RSL',\n",
    "                                'Porter',\n",
    "                                'cnr Wilman',\n",
    "                                'Maude St',\n",
    "                                'Victor Mahjong',\n",
    "                                'Pt Elliot Showgrounds',\n",
    "                                'Victor Harbor',\n",
    "                                'Goolwa United Strollers',\n",
    "                                'Impact Youth',\n",
    "                                'Phil 0451',\n",
    "                                'Canasta',\n",
    "                                'Bacchus Rd',\n",
    "                                'Coles',\n",
    "                                'Ph Sharon',\n",
    "                                'Qigong and Mindfulness Meditation',\n",
    "                                'Goolwa North',\n",
    "                                'Noah',\n",
    "                                'Goolwa Library',\n",
    "                                'Sabine',\n",
    "                                'Ratalang',\n",
    "                                'Zumba Class',\n",
    "                                'Michelle',\n",
    "                                'Goolwa Cittaslow',\n",
    "                                'Carrickalinga House',\n",
    "                                'Victor Floral Art',\n",
    "                                'Victor Harbor Coastcare', \n",
    "                                'Gail', \n",
    "                                'Elliot Patchworkers', \n",
    "                                'Rugmaking',\n",
    "                                'La Serenissima',\n",
    "                                'Shoreditch',\n",
    "                                'Edinburgh',\n",
    "                                'Dunham',\n",
    "                                'Fringe',\n",
    "                                'embroils',\n",
    "                                'Hart',\n",
    "                                'Hendrick',\n",
    "                                'Glaswegian',\n",
    "                                'Suspiria',\n",
    "                                'Android',\n",
    "                                'Chen',\n",
    "                                'Loftwall',\n",
    "                                'Hagen',\n",
    "                                'Nigel 0407',\n",
    "                                'Ping-Pong',\n",
    "                                '8555',\n",
    "                                'Fhior',\n",
    "                                'Coorong Dragons'\n",
    "                                \n",
    "\n",
    "                              ]"
   ]
  },
  {
   "cell_type": "code",
   "execution_count": null,
   "metadata": {
    "scrolled": true
   },
   "outputs": [],
   "source": [
    "non_relevant_filter = edge_list['target'].isin(to_drop_non_relevant_target)\n",
    "\n",
    "edge_list = edge_list[~non_relevant_filter]"
   ]
  },
  {
   "cell_type": "code",
   "execution_count": null,
   "metadata": {},
   "outputs": [],
   "source": [
    "G = nx.from_pandas_edgelist(edge_list)\n",
    "\n",
    "nx.algorithms.bipartite.is_bipartite(G)\n",
    "\n",
    "newG = nx.algorithms.bipartite.weighted_projected_graph(G, edge_list[\"target\"])\n",
    "\n",
    "nx.write_gexf(newG, 'new_crypto_article_person.gexf')"
   ]
  },
  {
   "cell_type": "code",
   "execution_count": null,
   "metadata": {},
   "outputs": [],
   "source": [
    "filtered_edge_list = [(edge[0], edge[1]) for edge in newG.edges(data = True) if edge[2][\"weight\"] != 1]\n",
    "\n",
    "filteredG = newG.edge_subgraph(filtered_edge_list)\n",
    "\n",
    "filteredG.number_of_edges()\n",
    "\n",
    "newG.number_of_edges()"
   ]
  },
  {
   "cell_type": "code",
   "execution_count": null,
   "metadata": {},
   "outputs": [],
   "source": [
    "nx.write_gexf(filteredG, 'updated_filteredG_crypto_article_person.gexf')"
   ]
  },
  {
   "cell_type": "code",
   "execution_count": null,
   "metadata": {},
   "outputs": [],
   "source": [
    "print(nx.info(filteredG))"
   ]
  },
  {
   "cell_type": "code",
   "execution_count": null,
   "metadata": {},
   "outputs": [],
   "source": [
    "filteredG.size()"
   ]
  },
  {
   "cell_type": "code",
   "execution_count": null,
   "metadata": {},
   "outputs": [],
   "source": [
    "filteredG.size(weight=\"weight\")"
   ]
  },
  {
   "cell_type": "code",
   "execution_count": null,
   "metadata": {},
   "outputs": [],
   "source": [
    "filteredG['Donald Trump']['Bitcoin'][\"weight\"]"
   ]
  },
  {
   "cell_type": "code",
   "execution_count": null,
   "metadata": {},
   "outputs": [],
   "source": [
    "\n",
    "# Specify figure size\n",
    "plt.figure(figsize=(30,30))\n",
    "plt.axis('equal')\n",
    "\n",
    "# Draw the Crypto network \n",
    "node_pos = nx.spring_layout(filteredG)\n",
    "nx.draw(filteredG,node_pos,with_labels=True)\n",
    "\n",
    "# Draw edge weights\n",
    "labels = nx.get_edge_attributes(filteredG,'weight')\n",
    "nx.draw_networkx_edge_labels(filteredG,node_pos,edge_labels=labels)\n",
    "plt.axis('off')\n",
    "plt.show()"
   ]
  },
  {
   "cell_type": "code",
   "execution_count": null,
   "metadata": {},
   "outputs": [],
   "source": [
    "filteredG_weights=filteredG.degree(weight='weight')\n",
    "sorted(filteredG_weights, key=lambda x: x[1], reverse=True)"
   ]
  },
  {
   "cell_type": "code",
   "execution_count": null,
   "metadata": {},
   "outputs": [],
   "source": [
    "# Plot a histogram for node degrees\n",
    "\n",
    "weights_values = [v for k, v in filteredG_weights]\n",
    "plt.hist(weights_values,8) \n",
    "plt.yscale('log')\n",
    "\n",
    "\n",
    "plt.xlabel('Weight')\n",
    "plt.ylabel('Number of nodes') \n",
    "plt.title('Cryptocurrency Network')"
   ]
  },
  {
   "cell_type": "code",
   "execution_count": null,
   "metadata": {},
   "outputs": [],
   "source": [
    "#average local clustering co efficient over all nodes in the graph\n",
    "nx.average_clustering(filteredG, weight=\"weight\")"
   ]
  },
  {
   "cell_type": "code",
   "execution_count": null,
   "metadata": {},
   "outputs": [],
   "source": [
    "#global clustering co efficient-transivity ratio of number of triangles  and number of open triads in network\n",
    "nx.transitivity(filteredG)"
   ]
  },
  {
   "cell_type": "code",
   "execution_count": null,
   "metadata": {},
   "outputs": [],
   "source": []
  },
  {
   "cell_type": "code",
   "execution_count": null,
   "metadata": {},
   "outputs": [],
   "source": []
  },
  {
   "cell_type": "code",
   "execution_count": null,
   "metadata": {},
   "outputs": [],
   "source": [
    " df_publications['equal_or_higher_than_5?'] = df_publications['Number of Publications'].apply(lambda x: 'True' if x >= 5 else 'False')\n",
    "\n",
    "print (df_publications)"
   ]
  },
  {
   "cell_type": "code",
   "execution_count": null,
   "metadata": {},
   "outputs": [],
   "source": []
  }
 ],
 "metadata": {
  "kernelspec": {
   "display_name": "Python 3",
   "language": "python",
   "name": "python3"
  },
  "language_info": {
   "codemirror_mode": {
    "name": "ipython",
    "version": 3
   },
   "file_extension": ".py",
   "mimetype": "text/x-python",
   "name": "python",
   "nbconvert_exporter": "python",
   "pygments_lexer": "ipython3",
   "version": "3.7.3"
  }
 },
 "nbformat": 4,
 "nbformat_minor": 4
}
