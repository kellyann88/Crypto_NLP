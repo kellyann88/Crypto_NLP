{
 "cells": [
  {
   "cell_type": "code",
   "execution_count": null,
   "metadata": {},
   "outputs": [],
   "source": [
    "pip install geopandas\n",
    "\n",
    "pip install geopy\n",
    "\n",
    "pip install pycountry-convert\n",
    "\n",
    "conda install -c konstantinstadler country_convert"
   ]
  },
  {
   "cell_type": "code",
   "execution_count": null,
   "metadata": {},
   "outputs": [],
   "source": [
    "import seaborn as sns \n",
    "import pandas as pd\n",
    "from pandas import ExcelWriter\n",
    "from pandas import ExcelFile\n",
    "import os\n",
    "import numpy as np\n",
    "import geopandas as gpd\n",
    "import matplotlib.style as style\n",
    "from matplotlib.colors import ListedColormap\n",
    "from shapely.geometry import Point\n",
    "import shapely\n",
    "import pycountry_convert as pc\n",
    "import country_converter as cc\n",
    "import matplotlib.pyplot as plt\n",
    "\n",
    "style.use('seaborn-poster') #sets the size of the charts\n",
    "sns.set_palette(sns.color_palette('Set1'))\n",
    "\n"
   ]
  },
  {
   "cell_type": "code",
   "execution_count": null,
   "metadata": {},
   "outputs": [],
   "source": [
    "%matplotlib inline\n",
    "\n",
    "filename = 'df6.csv'\n",
    "\n",
    "df6 = pd.read_csv(filename)\n",
    "\n",
    "df6.head\n",
    "\n",
    "df6.columns\n",
    "\n",
    "df6.info()"
   ]
  },
  {
   "cell_type": "code",
   "execution_count": null,
   "metadata": {},
   "outputs": [],
   "source": [
    "count_nan_in_df6 = df6.isnull().sum()\n",
    "print (count_nan_in_df6)"
   ]
  },
  {
   "cell_type": "code",
   "execution_count": null,
   "metadata": {},
   "outputs": [],
   "source": [
    "df6b = pd.DataFrame(df6,columns=['Source','Countries'])\n",
    "df6b"
   ]
  },
  {
   "cell_type": "code",
   "execution_count": null,
   "metadata": {},
   "outputs": [],
   "source": [
    "df6b.isnull().values.any()\n",
    "\n",
    "print (df6b.isna())"
   ]
  },
  {
   "cell_type": "code",
   "execution_count": null,
   "metadata": {},
   "outputs": [],
   "source": [
    "df6b[df6b.isnull().any(axis=1)]"
   ]
  },
  {
   "cell_type": "code",
   "execution_count": null,
   "metadata": {},
   "outputs": [],
   "source": [
    "df6[\"Countries\"].fillna(\"United States\", inplace = True) \n",
    "\n",
    "to_drop_non_countries = df6[df6.Countries.str.contains(\"Middle East\")].index\n",
    "df6.drop(to_drop_non_countries , inplace=True)\n",
    "\n",
    "to_drop_non_countries2 = df6[df6.Countries.str.contains(\"Africa\")].index\n",
    "df6.drop(to_drop_non_countries2 , inplace=True)\n",
    "\n",
    "to_drop_non_countries3 = df6[df6.Countries.str.contains(\"South America\")].index\n",
    "df6.drop(to_drop_non_countries3 , inplace=True)\n",
    "\n",
    "to_drop_non_countries4 = df6[df6.Countries.str.contains(\"Europe\")].index\n",
    "df6.drop(to_drop_non_countries4 , inplace=True)\n",
    "\n",
    "to_drop_non_countries5 = df6[df6.Countries.str.contains(\"Asia\")].index\n",
    "df6.drop(to_drop_non_countries5 , inplace=True)\n",
    "\n",
    "to_drop_non_countries6 = df6[df6.Countries.str.contains(\"Foreign\")].index\n",
    "df6.drop(to_drop_non_countries6 , inplace=True)\n",
    "\n",
    "df6['Countries'].replace(['England & Wales'], \"United Kingdom of Great Britain and Northern Ireland\", inplace=True)\n",
    "\n",
    "df6['Countries'].replace(['Scotland'], \"United Kingdom of Great Britain and Northern Ireland\", inplace=True)\n",
    "\n",
    "df6['Countries'].replace(['British Columbia'], \"Canada\", inplace=True)\n",
    "\n",
    "df6['Countries'].replace(['Ontario'], \"Canada\", inplace=True)\n",
    "\n",
    "df6['Countries'].replace(['Australia & Oceania'], \"Australia\", inplace=True)\n",
    "\n",
    "df6['Countries'].replace(['New Brunswick'], \"Canada\", inplace=True)\n",
    "\n",
    "df6['Countries'].replace(['Quebec'], \"Canada\", inplace=True)\n",
    "\n",
    "df6['Countries'].replace(['Alberta'], \"Canada\", inplace=True)\n",
    "\n",
    "df6['Countries'].replace(['French Republic'], \"France\", inplace=True)\n",
    "\n",
    "df6['Countries'].replace(['New South Wales'], \"Australia\", inplace=True)\n",
    "\n",
    "df6['Countries'].replace(['Saskatchewan'], \"Canada\", inplace=True)\n",
    "\n",
    "df6['Countries'].replace(['Scotland\\nUnited Kingdom of Great Britain and Northern Ireland'], \"United Kingdom of Great Britain and Northern Ireland\", inplace=True)\n",
    "\n",
    "df6['Countries'].replace(['Montenegro\\nSerbia, Republic of'], \"Montenegro\", inplace=True)\n",
    "\n",
    "df6.replace('\\'','', regex=True, inplace=True) \n",
    "\n",
    "df6['Countries'].replace(['Hong Kong Special Administrative Region of China\\nChina, Peoples Republic of'], \"China, Peoples Republic of\", inplace=True)\n",
    "\n",
    "country_freq = df6['Countries'].value_counts()"
   ]
  },
  {
   "cell_type": "code",
   "execution_count": null,
   "metadata": {},
   "outputs": [],
   "source": [
    "country_freq"
   ]
  },
  {
   "cell_type": "code",
   "execution_count": null,
   "metadata": {},
   "outputs": [],
   "source": [
    "country_freq.to_csv(\"country_freq.csv\")\n",
    "\n",
    "country_freq6a = pd.read_csv(\"country_freq.csv\")\n",
    "\n",
    "country_freq6a = pd.DataFrame(country_freq6a)\n",
    "header=None\n",
    "\n",
    "country_freq6a = country_freq6a.rename(columns={\"Unnamed: 0\": \"Country\"})\n",
    "\n",
    "country_freq6a = country_freq6a.rename(columns={\"Countries\": \"Frequency\"})\n",
    "\n",
    "df6a = []"
   ]
  },
  {
   "cell_type": "code",
   "execution_count": null,
   "metadata": {},
   "outputs": [],
   "source": [
    "for value in country_freq:\n",
    "    df6a.append(country_freq)"
   ]
  },
  {
   "cell_type": "code",
   "execution_count": null,
   "metadata": {},
   "outputs": [],
   "source": [
    "type(country_freq)\n",
    "\n",
    "pie_chart = country_freq.plot.pie(figsize=(7,7))"
   ]
  },
  {
   "cell_type": "code",
   "execution_count": null,
   "metadata": {},
   "outputs": [],
   "source": [
    "country_freq6a"
   ]
  },
  {
   "cell_type": "code",
   "execution_count": null,
   "metadata": {},
   "outputs": [],
   "source": [
    "def country_to_continent(country_name):\n",
    "    country_alpha2 = pc.country_name_to_country_alpha2(country_name)\n",
    "    country_continent_code = pc.country_alpha2_to_continent_code(country_alpha2)\n",
    "    country_continent_name = pc.convert_continent_code_to_continent_name(country_continent_code)\n",
    "    return country_continent_name\n",
    "\n",
    "# Example\n",
    "country_name = \"United Kingdom\"\n",
    "print(country_to_continent(country_name))\n",
    "\n",
    "for element in country_freq6a:\n",
    "    print(element)"
   ]
  },
  {
   "cell_type": "code",
   "execution_count": null,
   "metadata": {},
   "outputs": [],
   "source": [
    "\n",
    "for index, row in country_freq6a.iterrows():\n",
    "    print(index, row['Country'])"
   ]
  },
  {
   "cell_type": "code",
   "execution_count": null,
   "metadata": {},
   "outputs": [],
   "source": [
    "country_list = country_freq6a['Country'].tolist()\n",
    "\n",
    "print(country_list)"
   ]
  },
  {
   "cell_type": "code",
   "execution_count": null,
   "metadata": {},
   "outputs": [],
   "source": [
    "converter = cc.CountryConverter()"
   ]
  },
  {
   "cell_type": "code",
   "execution_count": null,
   "metadata": {},
   "outputs": [],
   "source": [
    "def replaceiniter(it, predicate, replacement=None):\n",
    "    for item in it:\n",
    "        if predicate == item: \n",
    "            yield replacement\n",
    "        else: \n",
    "            yield item\n",
    "        \n",
    "\n",
    "country_list = list(replaceiniter(country_list, predicate='Congo - Republic of',\n",
    "                                   replacement='Republic of Congo'))\n",
    "\n",
    "country_list = list(replaceiniter(country_list, predicate='England & Wales',\n",
    "                                   replacement='United Kingdom'))\n",
    "\n",
    "country_list = list(replaceiniter(country_list, predicate='England&Wales',\n",
    "                                   replacement='United Kingdom'))\n",
    "\n",
    "country_list = list(replaceiniter(country_list, predicate='England',\n",
    "                                   replacement='United Kingdom'))\n",
    "\n",
    "country_list = list(replaceiniter(country_list, predicate='Ontario',\n",
    "                                   replacement='Canada'))\n",
    "\n",
    "country_list = list(replaceiniter(country_list, predicate='Scotland',\n",
    "                                   replacement='United Kingdom'))\n",
    "\n",
    "country_list = list(replaceiniter(country_list, predicate='British Columbia',\n",
    "                                   replacement='Canada'))\n",
    "\n",
    "country_list = list(replaceiniter(country_list, predicate='Asia',\n",
    "                                   replacement='India'))\n",
    "\n",
    "country_list = list(replaceiniter(country_list, predicate='Alberta',\n",
    "                                   replacement='Canada'))\n",
    "\n",
    "country_list = list(replaceiniter(country_list, predicate='New Brunswick',\n",
    "                                   replacement='Canada'))\n",
    "\n",
    "country_list = list(replaceiniter(country_list, predicate='Quebec',\n",
    "                                   replacement='Canada'))\n",
    "\n",
    "country_list = list(replaceiniter(country_list, predicate='Saskatchewan',\n",
    "                                   replacement='Canada'))\n",
    "\n",
    "country_list = list(replaceiniter(country_list, predicate='Viet Nam, Socialist Republic of',\n",
    "                                   replacement='Vietnam'))\n",
    "\n",
    "country_list = list(replaceiniter(country_list, predicate='Northern Ireland',\n",
    "                                   replacement='United Kingdom'))\n",
    "\n",
    "country_list = list(replaceiniter(country_list, predicate='New South Wales',\n",
    "                                   replacement='Australia'))\n",
    "\n"
   ]
  },
  {
   "cell_type": "code",
   "execution_count": null,
   "metadata": {},
   "outputs": [],
   "source": [
    "Geo_dist_hist = df6['Countries'].value_counts()[:6450].plot(kind='bar', figsize=(15,8))\n",
    "plt.title(\"Geographic Distribution of Articles across Countries\")\n",
    "plt.ylabel(\"Number of Articles\")\n",
    "plt.xlabel(\"Country\")\n",
    "\n",
    "plt.savefig(\"GeoDistrArt.png\", bbox_inches=\"tight\")"
   ]
  },
  {
   "cell_type": "code",
   "execution_count": null,
   "metadata": {},
   "outputs": [],
   "source": [
    "def convert_country(country_list, code='ISO3',output='list'):\n",
    "    \n",
    "    res = cc.convert(names=country_list, to=code)\n",
    "    if output == 'list':\n",
    "        product = [x[0] if type(x) == list else x for x in res]\n",
    "    elif output == 'dict':\n",
    "        product = {country_list[i]:x[0] if type(x) == list else x for i, x in enumerate(res)}\n",
    "    else:\n",
    "        raise Exception\n",
    "    return product\n",
    "\n",
    "short_names = convert_country(country_list, code='name_short')\n",
    "ISO3_codes = convert_country(country_list, code='ISO3')\n",
    "continents = convert_country(country_list, code='continent')"
   ]
  },
  {
   "cell_type": "code",
   "execution_count": null,
   "metadata": {},
   "outputs": [],
   "source": [
    "continent_lookup = convert_country(country_list, code='continent', output='dict')\n",
    "\n",
    "print(continent_lookup)"
   ]
  },
  {
   "cell_type": "code",
   "execution_count": null,
   "metadata": {},
   "outputs": [],
   "source": [
    "len(continent_lookup)"
   ]
  },
  {
   "cell_type": "code",
   "execution_count": null,
   "metadata": {},
   "outputs": [],
   "source": [
    "cont_dict_df = pd.DataFrame.from_dict(continent_lookup, orient='index').rename(columns={0:'Continent'})\n",
    "cont_dict_df\n"
   ]
  },
  {
   "cell_type": "code",
   "execution_count": null,
   "metadata": {},
   "outputs": [],
   "source": [
    "palette = sns.color_palette(\"bright\")"
   ]
  },
  {
   "cell_type": "code",
   "execution_count": null,
   "metadata": {},
   "outputs": [],
   "source": [
    "Geo_dist_countinent = cont_dict_df['Continent'].value_counts()[:6450].plot(kind='bar', figsize=(15,8), style=palette)\n",
    "plt.title(\"Number of Countries Representing Continent for Article Source\")\n",
    "plt.ylabel(\"Number of Countries\")\n",
    "plt.xlabel(\"Continent\")\n",
    "\n",
    "plt.savefig(\"no_of_countries_rep_article_source.png\")"
   ]
  },
  {
   "cell_type": "code",
   "execution_count": null,
   "metadata": {},
   "outputs": [],
   "source": []
  },
  {
   "cell_type": "code",
   "execution_count": null,
   "metadata": {},
   "outputs": [],
   "source": []
  }
 ],
 "metadata": {
  "kernelspec": {
   "display_name": "Python 3",
   "language": "python",
   "name": "python3"
  },
  "language_info": {
   "codemirror_mode": {
    "name": "ipython",
    "version": 3
   },
   "file_extension": ".py",
   "mimetype": "text/x-python",
   "name": "python",
   "nbconvert_exporter": "python",
   "pygments_lexer": "ipython3",
   "version": "3.7.3"
  }
 },
 "nbformat": 4,
 "nbformat_minor": 4
}
