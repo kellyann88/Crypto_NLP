{
 "cells": [
  {
   "cell_type": "code",
   "execution_count": null,
   "metadata": {},
   "outputs": [],
   "source": [
    "import pandas as pd\n",
    "import pickle"
   ]
  },
  {
   "cell_type": "code",
   "execution_count": null,
   "metadata": {},
   "outputs": [],
   "source": [
    "merged_df = pd.read_pickle(\"/Users/kellycoulter/Desktop/PhD_Code_2021/merged_df.pkl\")\n",
    "merged_df"
   ]
  },
  {
   "cell_type": "code",
   "execution_count": null,
   "metadata": {},
   "outputs": [],
   "source": [
    "my_processing = pd.read_pickle('/Users/kellycoulter/Desktop/PhD_Code_2021/my_processing.pkl')\n",
    "\n",
    "my_processing"
   ]
  },
  {
   "cell_type": "code",
   "execution_count": null,
   "metadata": {},
   "outputs": [],
   "source": [
    "new_merged = my_processing.merge(merged_df, left_on='Source',right_on='Source', how='left')\n",
    "new_merged = new_merged.drop(columns=['Unnamed: 0'])\n",
    "\n",
    "new_merged"
   ]
  },
  {
   "cell_type": "code",
   "execution_count": null,
   "metadata": {},
   "outputs": [],
   "source": [
    "\n",
    "new_merged = new_merged.rename(columns={\"Publisheddate_x\": \"Published Date\"})\n",
    "\n",
    "\n",
    "new_merged = new_merged.rename(columns={\"Author_x\": \"Author\"})\n",
    "\n",
    "\n",
    "new_merged = new_merged.rename(columns={\"Title_x\": \"Title\"})\n",
    "\n",
    "\n",
    "new_merged = new_merged.rename(columns={\"Body_x\": \"Body\"})\n",
    "\n",
    "\n",
    "new_merged = new_merged.rename(columns={\"Publication location_x\": \"Publication Location\"})\n",
    "\n",
    "\n",
    "new_merged = new_merged.rename(columns={\"Countries_x\": \"Country\"})\n",
    "\n",
    "new_merged = new_merged.rename(columns={\"cleaned\": \"Cleaned Tokens\"})\n",
    "\n",
    "\n",
    "new_merged = new_merged.drop(columns = [\"Author_y\"])\n",
    "\n",
    "\n",
    "new_merged = new_merged.drop(columns = [\"Title_y\"])\n",
    "\n",
    "\n",
    "new_merged = new_merged.drop(columns = [\"Body_y\"])\n",
    "\n",
    "new_merged = new_merged.drop(columns = [\"Publication location_y\"])\n",
    "\n",
    "new_merged = new_merged.drop(columns = [\"Publisheddate_y\"])\n",
    "\n",
    "new_merged.dropna(subset=['Source Type'], inplace=True)"
   ]
  },
  {
   "cell_type": "code",
   "execution_count": null,
   "metadata": {},
   "outputs": [],
   "source": [
    "new_merged = new_merged.drop_duplicates(subset='Body', keep=\"last\")"
   ]
  },
  {
   "cell_type": "code",
   "execution_count": null,
   "metadata": {},
   "outputs": [],
   "source": [
    "new_merged.to_pickle('final_merged_df.pkl')"
   ]
  },
  {
   "cell_type": "code",
   "execution_count": null,
   "metadata": {},
   "outputs": [],
   "source": []
  },
  {
   "cell_type": "code",
   "execution_count": null,
   "metadata": {},
   "outputs": [],
   "source": []
  },
  {
   "cell_type": "code",
   "execution_count": null,
   "metadata": {},
   "outputs": [],
   "source": []
  }
 ],
 "metadata": {
  "kernelspec": {
   "display_name": "Python 3",
   "language": "python",
   "name": "python3"
  },
  "language_info": {
   "codemirror_mode": {
    "name": "ipython",
    "version": 3
   },
   "file_extension": ".py",
   "mimetype": "text/x-python",
   "name": "python",
   "nbconvert_exporter": "python",
   "pygments_lexer": "ipython3",
   "version": "3.7.3"
  }
 },
 "nbformat": 4,
 "nbformat_minor": 4
}
